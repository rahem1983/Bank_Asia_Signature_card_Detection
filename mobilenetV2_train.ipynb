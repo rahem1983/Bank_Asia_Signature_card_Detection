{
 "cells": [
  {
   "cell_type": "code",
   "execution_count": 1,
   "id": "55c66755",
   "metadata": {},
   "outputs": [
    {
     "data": {
      "text/plain": [
<<<<<<< HEAD
       "<matplotlib.pyplot._IonContext at 0x20e55ccea00>"
=======
       "<contextlib.ExitStack at 0x7f31cc60c7f0>"
>>>>>>> a337e570e385cfeb1055b6e2ee2636c22bf618c6
      ]
     },
     "execution_count": 1,
     "metadata": {},
     "output_type": "execute_result"
    }
   ],
   "source": [
    "# License: BSD\n",
    "# Author: Sasank Chilamkurthy\n",
    "\n",
    "from __future__ import print_function, division\n",
    "\n",
    "import torch\n",
    "import torch.nn as nn\n",
    "import torch.optim as optim\n",
    "from torch.optim import lr_scheduler\n",
    "import torch.backends.cudnn as cudnn\n",
    "from torch.utils.data import DataLoader\n",
    "import numpy as np\n",
    "import torchvision\n",
    "from torchvision import datasets, models, transforms\n",
    "import matplotlib.pyplot as plt\n",
    "import time\n",
    "import os\n",
    "import cv2\n",
    "import copy\n",
    "from sklearn import metrics\n",
    "from sklearn.metrics import confusion_matrix\n",
    "\n",
    "\n",
    "cudnn.benchmark = True\n",
    "plt.ion()   # interactive mode"
   ]
  },
  {
   "cell_type": "code",
   "execution_count": 2,
   "id": "b6f5ae00",
   "metadata": {},
   "outputs": [],
   "source": [
    "from torch.autograd import Variable\n",
    "from PIL import Image\n",
    "toTensor = transforms.ToTensor()"
   ]
  },
  {
   "cell_type": "code",
   "execution_count": 3,
   "id": "ce90842e",
   "metadata": {},
   "outputs": [],
   "source": [
    "# Data augmentation and normalization for training\n",
    "# Just normalization for validation\n",
    "data_transforms = {\n",
    "    'train': transforms.Compose([\n",
    "        transforms.RandomResizedCrop(256),\n",
    "        transforms.RandomHorizontalFlip(),\n",
    "        transforms.ToTensor(),\n",
    "        transforms.Normalize([0.485, 0.456, 0.406], [0.229, 0.224, 0.225])\n",
    "    ]),\n",
    "    'val': transforms.Compose([\n",
    "        transforms.Resize(256),\n",
    "        transforms.CenterCrop(256),\n",
    "        transforms.ToTensor(),\n",
    "        transforms.Normalize([0.485, 0.456, 0.406], [0.229, 0.224, 0.225])\n",
    "    ]),\n",
    "}\n",
    "\n",
    "data_dir = 'dataset'\n",
    "image_datasets = {x: datasets.ImageFolder(os.path.join(data_dir, x),\n",
    "                                          data_transforms[x])\n",
    "                  for x in ['train', 'val']}\n",
    "dataloaders = {x: torch.utils.data.DataLoader(image_datasets[x], batch_size=32,\n",
    "                                             shuffle=True, num_workers=8)\n",
    "              for x in ['train', 'val']}\n",
    "dataset_sizes = {x: len(image_datasets[x]) for x in ['train', 'val']}\n",
    "class_names = image_datasets['train'].classes\n",
    "\n",
    "device = torch.device(\"cuda:0\" if torch.cuda.is_available() else \"cpu\")"
   ]
  },
  {
   "cell_type": "code",
   "execution_count": 4,
<<<<<<< HEAD
=======
   "id": "5ad996e7",
   "metadata": {},
   "outputs": [
    {
     "data": {
      "text/plain": [
       "False"
      ]
     },
     "execution_count": 4,
     "metadata": {},
     "output_type": "execute_result"
    }
   ],
   "source": [
    "torch.cuda.is_available()"
   ]
  },
  {
   "cell_type": "code",
   "execution_count": 5,
>>>>>>> a337e570e385cfeb1055b6e2ee2636c22bf618c6
   "id": "0fc16bb2",
   "metadata": {},
   "outputs": [
    {
     "data": {
      "text/plain": [
       "device(type='cpu')"
      ]
     },
<<<<<<< HEAD
     "execution_count": 4,
=======
     "execution_count": 5,
>>>>>>> a337e570e385cfeb1055b6e2ee2636c22bf618c6
     "metadata": {},
     "output_type": "execute_result"
    }
   ],
   "source": [
    "device"
   ]
  },
  {
   "cell_type": "code",
<<<<<<< HEAD
   "execution_count": 5,
=======
   "execution_count": 6,
>>>>>>> a337e570e385cfeb1055b6e2ee2636c22bf618c6
   "id": "af36b736",
   "metadata": {},
   "outputs": [
    {
     "data": {
      "text/plain": [
       "['Not_Signature_card', 'Signature_card']"
      ]
     },
<<<<<<< HEAD
     "execution_count": 5,
=======
     "execution_count": 6,
>>>>>>> a337e570e385cfeb1055b6e2ee2636c22bf618c6
     "metadata": {},
     "output_type": "execute_result"
    }
   ],
   "source": [
    "class_names"
   ]
  },
  {
   "cell_type": "code",
   "execution_count": 7,
   "id": "d80fc5c9",
   "metadata": {},
   "outputs": [],
   "source": [
    "t_loss = []\n",
    "v_loss = []\n",
    "\n",
    "actual = []\n",
    "pred = []\n",
    "def train_model(model, criterion, optimizer, scheduler, num_epochs=25):\n",
    "    since = time.time()\n",
    "\n",
    "    best_model_wts = copy.deepcopy(model.state_dict())\n",
    "    best_acc = 0.0\n",
    "\n",
    "    for epoch in range(num_epochs):\n",
    "        print(f'Epoch {epoch}/{num_epochs - 1}')\n",
    "        print('-' * 10)\n",
    "\n",
    "        # Each epoch has a training and validation phase\n",
    "        for phase in ['train', 'val']:\n",
    "            if phase == 'train':\n",
    "                model.train()  # Set model to training mode\n",
    "            else:\n",
    "                model.eval()   # Set model to evaluate mode\n",
    "\n",
    "            running_loss = 0.0\n",
    "            running_corrects = 0\n",
    "\n",
    "            # Iterate over data.\n",
    "            for inputs, labels in dataloaders[phase]:\n",
    "                inputs = inputs.to(device)\n",
    "                labels = labels.to(device)\n",
    "\n",
    "                # zero the parameter gradients\n",
    "                optimizer.zero_grad()\n",
    "\n",
    "                # forward\n",
    "                # track history if only in train\n",
    "                with torch.set_grad_enabled(phase == 'train'):\n",
    "                    outputs = model(inputs)\n",
    "                    _, preds = torch.max(outputs, 1)\n",
    "                    loss = criterion(outputs, labels)\n",
    "                    \n",
    "#                     outputs = outputs.cpu()\n",
    "#                     index = outputs.data.numpy().argmax()\n",
    "#                     pred.append(index)\n",
    "                    \n",
    "                    # backward + optimize only if in training phase\n",
    "                    if phase == 'train':\n",
    "                        loss.backward()\n",
    "                        optimizer.step()\n",
    "\n",
    "                # statistics\n",
    "                running_loss += loss.item() * inputs.size(0)\n",
    "                running_corrects += torch.sum(preds == labels.data)\n",
    "            if phase == 'train':\n",
    "                scheduler.step()\n",
    "\n",
    "            epoch_loss = running_loss / dataset_sizes[phase]\n",
    "            epoch_acc = running_corrects.double() / dataset_sizes[phase]\n",
    "            \n",
    "            if phase == 'train':\n",
    "                t_loss.append(epoch_loss)\n",
    "            else:\n",
    "                v_loss.append(epoch_loss)\n",
    "                \n",
    "            print(f'{phase} Loss: {epoch_loss:.4f} Acc: {epoch_acc:.4f}')\n",
    "\n",
    "            # deep copy the model\n",
    "            if phase == 'val' and epoch_acc > best_acc:\n",
    "                best_acc = epoch_acc\n",
    "                best_model_wts = copy.deepcopy(model.state_dict())\n",
    "\n",
    "        print()\n",
    "\n",
    "    time_elapsed = time.time() - since\n",
    "    print(f'Training complete in {time_elapsed // 60:.0f}m {time_elapsed % 60:.0f}s')\n",
    "    print(f'Best val Acc: {best_acc:4f}')\n",
    "\n",
    "    # load best model weights\n",
    "    model.load_state_dict(best_model_wts)\n",
    "    return model"
   ]
  },
  {
   "cell_type": "code",
   "execution_count": 8,
   "id": "a649a6c8",
   "metadata": {},
   "outputs": [
    {
     "name": "stderr",
     "output_type": "stream",
     "text": [
      "Using cache found in /home/anim/.cache/torch/hub/pytorch_vision_v0.10.0\n",
      "/home/anim/anaconda3/lib/python3.9/site-packages/torchvision/models/_utils.py:208: UserWarning: The parameter 'pretrained' is deprecated since 0.13 and may be removed in the future, please use 'weights' instead.\n",
      "  warnings.warn(\n",
      "/home/anim/anaconda3/lib/python3.9/site-packages/torchvision/models/_utils.py:223: UserWarning: Arguments other than a weight enum or `None` for 'weights' are deprecated since 0.13 and may be removed in the future. The current behavior is equivalent to passing `weights=MobileNet_V2_Weights.IMAGENET1K_V1`. You can also use `weights=MobileNet_V2_Weights.DEFAULT` to get the most up-to-date weights.\n",
      "  warnings.warn(msg)\n"
     ]
    }
   ],
   "source": [
    "model_ft = torch.hub.load('pytorch/vision:v0.10.0', 'mobilenet_v2', pretrained=True)"
   ]
  },
  {
   "cell_type": "code",
   "execution_count": 9,
   "id": "d41b7e3b",
   "metadata": {},
   "outputs": [],
   "source": [
    "# model_ft = models.resnet18(pretrained=True)\n",
    "# num_ftrs = model_ft.fc.in_features\n",
    "# # Here the size of each output sample is set to 2.\n",
    "# # Alternatively, it can be generalized to nn.Linear(num_ftrs, len(class_names)).\n",
    "# model_ft.fc = nn.Linear(num_ftrs, 2)\n",
    "\n",
    "model_ft = model_ft.to(device)\n",
    "\n",
    "criterion = nn.CrossEntropyLoss()\n",
    "\n",
    "# Observe that all parameters are being optimized\n",
    "# optimizer_ft = optim.SGD(model_ft.parameters(), lr=0.01, momentum=0.9)\n",
    "optimizer_ft = torch.optim.Adam(model_ft.parameters(), lr=0.001)\n",
    "\n",
    "# Decay LR by a factor of 0.1 every 7 epochs\n",
    "exp_lr_scheduler = lr_scheduler.StepLR(optimizer_ft, step_size=7, gamma=0.1)"
   ]
  },
  {
   "cell_type": "code",
   "execution_count": 11,
   "id": "c769f5d3",
   "metadata": {
    "scrolled": true
   },
   "outputs": [
    {
     "name": "stdout",
     "output_type": "stream",
     "text": [
      "Epoch 0/4\n",
      "----------\n"
     ]
    },
    {
     "name": "stdout",
     "output_type": "stream",
     "text": [
      "train Loss: 0.1335 Acc: 0.9714\n",
      "val Loss: 0.0461 Acc: 0.9914\n",
      "\n",
      "Epoch 1/4\n",
      "----------\n",
      "train Loss: 0.0374 Acc: 0.9882\n",
      "val Loss: 0.0092 Acc: 0.9957\n",
      "\n",
      "Epoch 2/4\n",
      "----------\n",
      "train Loss: 0.0540 Acc: 0.9836\n",
      "val Loss: 0.0089 Acc: 0.9957\n",
      "\n",
      "Epoch 3/4\n",
      "----------\n",
      "train Loss: 0.0241 Acc: 0.9914\n",
      "val Loss: 0.0304 Acc: 0.9943\n",
      "\n",
      "Epoch 4/4\n",
      "----------\n",
      "train Loss: 0.0226 Acc: 0.9927\n",
      "val Loss: 0.0178 Acc: 0.9943\n",
      "\n",
      "Training complete in 6m 8s\n",
      "Best val Acc: 0.995714\n"
     ]
    }
   ],
   "source": [
    "model_ft = train_model(model_ft, criterion, optimizer_ft, exp_lr_scheduler, num_epochs=5)"
   ]
  },
  {
   "cell_type": "code",
   "execution_count": 12,
   "id": "3965a435",
   "metadata": {},
   "outputs": [
    {
     "data": {
      "image/png": "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",
      "text/plain": [
       "<Figure size 640x480 with 1 Axes>"
      ]
     },
     "metadata": {},
     "output_type": "display_data"
    }
   ],
   "source": [
    "plt.plot( t_loss, 'r', label='Training loss')\n",
    "plt.plot(v_loss, 'b', label='Validation loss')\n",
    "\n",
    "# plt.plot(best_epoch_train_loss, 'g', label='Best loss')\n",
    "# plt.plot( train_loss_arr, 'r', label='Training loss')\n",
    "plt.title('Training and validation loss')\n",
    "plt.xlabel('Epochs')\n",
    "plt.ylabel('Loss')\n",
    "plt.legend()\n",
    "plt.show()"
   ]
  },
  {
   "cell_type": "code",
   "execution_count": 13,
   "id": "83763a37",
   "metadata": {},
   "outputs": [],
   "source": [
    "torch.save(model_ft.state_dict(), 'best_model/model03.pt')"
   ]
  },
  {
   "cell_type": "code",
<<<<<<< HEAD
   "execution_count": 8,
=======
   "execution_count": 15,
>>>>>>> a337e570e385cfeb1055b6e2ee2636c22bf618c6
   "id": "72233cd2",
   "metadata": {},
   "outputs": [
    {
     "name": "stderr",
     "output_type": "stream",
     "text": [
      "Using cache found in /home/anim/.cache/torch/hub/pytorch_vision_v0.10.0\n"
     ]
    },
    {
     "data": {
      "text/plain": [
       "MobileNetV2(\n",
       "  (features): Sequential(\n",
       "    (0): Conv2dNormActivation(\n",
       "      (0): Conv2d(3, 32, kernel_size=(3, 3), stride=(2, 2), padding=(1, 1), bias=False)\n",
       "      (1): BatchNorm2d(32, eps=1e-05, momentum=0.1, affine=True, track_running_stats=True)\n",
       "      (2): ReLU6(inplace=True)\n",
       "    )\n",
       "    (1): InvertedResidual(\n",
       "      (conv): Sequential(\n",
       "        (0): Conv2dNormActivation(\n",
       "          (0): Conv2d(32, 32, kernel_size=(3, 3), stride=(1, 1), padding=(1, 1), groups=32, bias=False)\n",
       "          (1): BatchNorm2d(32, eps=1e-05, momentum=0.1, affine=True, track_running_stats=True)\n",
       "          (2): ReLU6(inplace=True)\n",
       "        )\n",
       "        (1): Conv2d(32, 16, kernel_size=(1, 1), stride=(1, 1), bias=False)\n",
       "        (2): BatchNorm2d(16, eps=1e-05, momentum=0.1, affine=True, track_running_stats=True)\n",
       "      )\n",
       "    )\n",
       "    (2): InvertedResidual(\n",
       "      (conv): Sequential(\n",
       "        (0): Conv2dNormActivation(\n",
       "          (0): Conv2d(16, 96, kernel_size=(1, 1), stride=(1, 1), bias=False)\n",
       "          (1): BatchNorm2d(96, eps=1e-05, momentum=0.1, affine=True, track_running_stats=True)\n",
       "          (2): ReLU6(inplace=True)\n",
       "        )\n",
       "        (1): Conv2dNormActivation(\n",
       "          (0): Conv2d(96, 96, kernel_size=(3, 3), stride=(2, 2), padding=(1, 1), groups=96, bias=False)\n",
       "          (1): BatchNorm2d(96, eps=1e-05, momentum=0.1, affine=True, track_running_stats=True)\n",
       "          (2): ReLU6(inplace=True)\n",
       "        )\n",
       "        (2): Conv2d(96, 24, kernel_size=(1, 1), stride=(1, 1), bias=False)\n",
       "        (3): BatchNorm2d(24, eps=1e-05, momentum=0.1, affine=True, track_running_stats=True)\n",
       "      )\n",
       "    )\n",
       "    (3): InvertedResidual(\n",
       "      (conv): Sequential(\n",
       "        (0): Conv2dNormActivation(\n",
       "          (0): Conv2d(24, 144, kernel_size=(1, 1), stride=(1, 1), bias=False)\n",
       "          (1): BatchNorm2d(144, eps=1e-05, momentum=0.1, affine=True, track_running_stats=True)\n",
       "          (2): ReLU6(inplace=True)\n",
       "        )\n",
       "        (1): Conv2dNormActivation(\n",
       "          (0): Conv2d(144, 144, kernel_size=(3, 3), stride=(1, 1), padding=(1, 1), groups=144, bias=False)\n",
       "          (1): BatchNorm2d(144, eps=1e-05, momentum=0.1, affine=True, track_running_stats=True)\n",
       "          (2): ReLU6(inplace=True)\n",
       "        )\n",
       "        (2): Conv2d(144, 24, kernel_size=(1, 1), stride=(1, 1), bias=False)\n",
       "        (3): BatchNorm2d(24, eps=1e-05, momentum=0.1, affine=True, track_running_stats=True)\n",
       "      )\n",
       "    )\n",
       "    (4): InvertedResidual(\n",
       "      (conv): Sequential(\n",
       "        (0): Conv2dNormActivation(\n",
       "          (0): Conv2d(24, 144, kernel_size=(1, 1), stride=(1, 1), bias=False)\n",
       "          (1): BatchNorm2d(144, eps=1e-05, momentum=0.1, affine=True, track_running_stats=True)\n",
       "          (2): ReLU6(inplace=True)\n",
       "        )\n",
       "        (1): Conv2dNormActivation(\n",
       "          (0): Conv2d(144, 144, kernel_size=(3, 3), stride=(2, 2), padding=(1, 1), groups=144, bias=False)\n",
       "          (1): BatchNorm2d(144, eps=1e-05, momentum=0.1, affine=True, track_running_stats=True)\n",
       "          (2): ReLU6(inplace=True)\n",
       "        )\n",
       "        (2): Conv2d(144, 32, kernel_size=(1, 1), stride=(1, 1), bias=False)\n",
       "        (3): BatchNorm2d(32, eps=1e-05, momentum=0.1, affine=True, track_running_stats=True)\n",
       "      )\n",
       "    )\n",
       "    (5): InvertedResidual(\n",
       "      (conv): Sequential(\n",
       "        (0): Conv2dNormActivation(\n",
       "          (0): Conv2d(32, 192, kernel_size=(1, 1), stride=(1, 1), bias=False)\n",
       "          (1): BatchNorm2d(192, eps=1e-05, momentum=0.1, affine=True, track_running_stats=True)\n",
       "          (2): ReLU6(inplace=True)\n",
       "        )\n",
       "        (1): Conv2dNormActivation(\n",
       "          (0): Conv2d(192, 192, kernel_size=(3, 3), stride=(1, 1), padding=(1, 1), groups=192, bias=False)\n",
       "          (1): BatchNorm2d(192, eps=1e-05, momentum=0.1, affine=True, track_running_stats=True)\n",
       "          (2): ReLU6(inplace=True)\n",
       "        )\n",
       "        (2): Conv2d(192, 32, kernel_size=(1, 1), stride=(1, 1), bias=False)\n",
       "        (3): BatchNorm2d(32, eps=1e-05, momentum=0.1, affine=True, track_running_stats=True)\n",
       "      )\n",
       "    )\n",
       "    (6): InvertedResidual(\n",
       "      (conv): Sequential(\n",
       "        (0): Conv2dNormActivation(\n",
       "          (0): Conv2d(32, 192, kernel_size=(1, 1), stride=(1, 1), bias=False)\n",
       "          (1): BatchNorm2d(192, eps=1e-05, momentum=0.1, affine=True, track_running_stats=True)\n",
       "          (2): ReLU6(inplace=True)\n",
       "        )\n",
       "        (1): Conv2dNormActivation(\n",
       "          (0): Conv2d(192, 192, kernel_size=(3, 3), stride=(1, 1), padding=(1, 1), groups=192, bias=False)\n",
       "          (1): BatchNorm2d(192, eps=1e-05, momentum=0.1, affine=True, track_running_stats=True)\n",
       "          (2): ReLU6(inplace=True)\n",
       "        )\n",
       "        (2): Conv2d(192, 32, kernel_size=(1, 1), stride=(1, 1), bias=False)\n",
       "        (3): BatchNorm2d(32, eps=1e-05, momentum=0.1, affine=True, track_running_stats=True)\n",
       "      )\n",
       "    )\n",
       "    (7): InvertedResidual(\n",
       "      (conv): Sequential(\n",
       "        (0): Conv2dNormActivation(\n",
       "          (0): Conv2d(32, 192, kernel_size=(1, 1), stride=(1, 1), bias=False)\n",
       "          (1): BatchNorm2d(192, eps=1e-05, momentum=0.1, affine=True, track_running_stats=True)\n",
       "          (2): ReLU6(inplace=True)\n",
       "        )\n",
       "        (1): Conv2dNormActivation(\n",
       "          (0): Conv2d(192, 192, kernel_size=(3, 3), stride=(2, 2), padding=(1, 1), groups=192, bias=False)\n",
       "          (1): BatchNorm2d(192, eps=1e-05, momentum=0.1, affine=True, track_running_stats=True)\n",
       "          (2): ReLU6(inplace=True)\n",
       "        )\n",
       "        (2): Conv2d(192, 64, kernel_size=(1, 1), stride=(1, 1), bias=False)\n",
       "        (3): BatchNorm2d(64, eps=1e-05, momentum=0.1, affine=True, track_running_stats=True)\n",
       "      )\n",
       "    )\n",
       "    (8): InvertedResidual(\n",
       "      (conv): Sequential(\n",
       "        (0): Conv2dNormActivation(\n",
       "          (0): Conv2d(64, 384, kernel_size=(1, 1), stride=(1, 1), bias=False)\n",
       "          (1): BatchNorm2d(384, eps=1e-05, momentum=0.1, affine=True, track_running_stats=True)\n",
       "          (2): ReLU6(inplace=True)\n",
       "        )\n",
       "        (1): Conv2dNormActivation(\n",
       "          (0): Conv2d(384, 384, kernel_size=(3, 3), stride=(1, 1), padding=(1, 1), groups=384, bias=False)\n",
       "          (1): BatchNorm2d(384, eps=1e-05, momentum=0.1, affine=True, track_running_stats=True)\n",
       "          (2): ReLU6(inplace=True)\n",
       "        )\n",
       "        (2): Conv2d(384, 64, kernel_size=(1, 1), stride=(1, 1), bias=False)\n",
       "        (3): BatchNorm2d(64, eps=1e-05, momentum=0.1, affine=True, track_running_stats=True)\n",
       "      )\n",
       "    )\n",
       "    (9): InvertedResidual(\n",
       "      (conv): Sequential(\n",
       "        (0): Conv2dNormActivation(\n",
       "          (0): Conv2d(64, 384, kernel_size=(1, 1), stride=(1, 1), bias=False)\n",
       "          (1): BatchNorm2d(384, eps=1e-05, momentum=0.1, affine=True, track_running_stats=True)\n",
       "          (2): ReLU6(inplace=True)\n",
       "        )\n",
       "        (1): Conv2dNormActivation(\n",
       "          (0): Conv2d(384, 384, kernel_size=(3, 3), stride=(1, 1), padding=(1, 1), groups=384, bias=False)\n",
       "          (1): BatchNorm2d(384, eps=1e-05, momentum=0.1, affine=True, track_running_stats=True)\n",
       "          (2): ReLU6(inplace=True)\n",
       "        )\n",
       "        (2): Conv2d(384, 64, kernel_size=(1, 1), stride=(1, 1), bias=False)\n",
       "        (3): BatchNorm2d(64, eps=1e-05, momentum=0.1, affine=True, track_running_stats=True)\n",
       "      )\n",
       "    )\n",
       "    (10): InvertedResidual(\n",
       "      (conv): Sequential(\n",
       "        (0): Conv2dNormActivation(\n",
       "          (0): Conv2d(64, 384, kernel_size=(1, 1), stride=(1, 1), bias=False)\n",
       "          (1): BatchNorm2d(384, eps=1e-05, momentum=0.1, affine=True, track_running_stats=True)\n",
       "          (2): ReLU6(inplace=True)\n",
       "        )\n",
       "        (1): Conv2dNormActivation(\n",
       "          (0): Conv2d(384, 384, kernel_size=(3, 3), stride=(1, 1), padding=(1, 1), groups=384, bias=False)\n",
       "          (1): BatchNorm2d(384, eps=1e-05, momentum=0.1, affine=True, track_running_stats=True)\n",
       "          (2): ReLU6(inplace=True)\n",
       "        )\n",
       "        (2): Conv2d(384, 64, kernel_size=(1, 1), stride=(1, 1), bias=False)\n",
       "        (3): BatchNorm2d(64, eps=1e-05, momentum=0.1, affine=True, track_running_stats=True)\n",
       "      )\n",
       "    )\n",
       "    (11): InvertedResidual(\n",
       "      (conv): Sequential(\n",
       "        (0): Conv2dNormActivation(\n",
       "          (0): Conv2d(64, 384, kernel_size=(1, 1), stride=(1, 1), bias=False)\n",
       "          (1): BatchNorm2d(384, eps=1e-05, momentum=0.1, affine=True, track_running_stats=True)\n",
       "          (2): ReLU6(inplace=True)\n",
       "        )\n",
       "        (1): Conv2dNormActivation(\n",
       "          (0): Conv2d(384, 384, kernel_size=(3, 3), stride=(1, 1), padding=(1, 1), groups=384, bias=False)\n",
       "          (1): BatchNorm2d(384, eps=1e-05, momentum=0.1, affine=True, track_running_stats=True)\n",
       "          (2): ReLU6(inplace=True)\n",
       "        )\n",
       "        (2): Conv2d(384, 96, kernel_size=(1, 1), stride=(1, 1), bias=False)\n",
       "        (3): BatchNorm2d(96, eps=1e-05, momentum=0.1, affine=True, track_running_stats=True)\n",
       "      )\n",
       "    )\n",
       "    (12): InvertedResidual(\n",
       "      (conv): Sequential(\n",
       "        (0): Conv2dNormActivation(\n",
       "          (0): Conv2d(96, 576, kernel_size=(1, 1), stride=(1, 1), bias=False)\n",
       "          (1): BatchNorm2d(576, eps=1e-05, momentum=0.1, affine=True, track_running_stats=True)\n",
       "          (2): ReLU6(inplace=True)\n",
       "        )\n",
       "        (1): Conv2dNormActivation(\n",
       "          (0): Conv2d(576, 576, kernel_size=(3, 3), stride=(1, 1), padding=(1, 1), groups=576, bias=False)\n",
       "          (1): BatchNorm2d(576, eps=1e-05, momentum=0.1, affine=True, track_running_stats=True)\n",
       "          (2): ReLU6(inplace=True)\n",
       "        )\n",
       "        (2): Conv2d(576, 96, kernel_size=(1, 1), stride=(1, 1), bias=False)\n",
       "        (3): BatchNorm2d(96, eps=1e-05, momentum=0.1, affine=True, track_running_stats=True)\n",
       "      )\n",
       "    )\n",
       "    (13): InvertedResidual(\n",
       "      (conv): Sequential(\n",
       "        (0): Conv2dNormActivation(\n",
       "          (0): Conv2d(96, 576, kernel_size=(1, 1), stride=(1, 1), bias=False)\n",
       "          (1): BatchNorm2d(576, eps=1e-05, momentum=0.1, affine=True, track_running_stats=True)\n",
       "          (2): ReLU6(inplace=True)\n",
       "        )\n",
       "        (1): Conv2dNormActivation(\n",
       "          (0): Conv2d(576, 576, kernel_size=(3, 3), stride=(1, 1), padding=(1, 1), groups=576, bias=False)\n",
       "          (1): BatchNorm2d(576, eps=1e-05, momentum=0.1, affine=True, track_running_stats=True)\n",
       "          (2): ReLU6(inplace=True)\n",
       "        )\n",
       "        (2): Conv2d(576, 96, kernel_size=(1, 1), stride=(1, 1), bias=False)\n",
       "        (3): BatchNorm2d(96, eps=1e-05, momentum=0.1, affine=True, track_running_stats=True)\n",
       "      )\n",
       "    )\n",
       "    (14): InvertedResidual(\n",
       "      (conv): Sequential(\n",
       "        (0): Conv2dNormActivation(\n",
       "          (0): Conv2d(96, 576, kernel_size=(1, 1), stride=(1, 1), bias=False)\n",
       "          (1): BatchNorm2d(576, eps=1e-05, momentum=0.1, affine=True, track_running_stats=True)\n",
       "          (2): ReLU6(inplace=True)\n",
       "        )\n",
       "        (1): Conv2dNormActivation(\n",
       "          (0): Conv2d(576, 576, kernel_size=(3, 3), stride=(2, 2), padding=(1, 1), groups=576, bias=False)\n",
       "          (1): BatchNorm2d(576, eps=1e-05, momentum=0.1, affine=True, track_running_stats=True)\n",
       "          (2): ReLU6(inplace=True)\n",
       "        )\n",
       "        (2): Conv2d(576, 160, kernel_size=(1, 1), stride=(1, 1), bias=False)\n",
       "        (3): BatchNorm2d(160, eps=1e-05, momentum=0.1, affine=True, track_running_stats=True)\n",
       "      )\n",
       "    )\n",
       "    (15): InvertedResidual(\n",
       "      (conv): Sequential(\n",
       "        (0): Conv2dNormActivation(\n",
       "          (0): Conv2d(160, 960, kernel_size=(1, 1), stride=(1, 1), bias=False)\n",
       "          (1): BatchNorm2d(960, eps=1e-05, momentum=0.1, affine=True, track_running_stats=True)\n",
       "          (2): ReLU6(inplace=True)\n",
       "        )\n",
       "        (1): Conv2dNormActivation(\n",
       "          (0): Conv2d(960, 960, kernel_size=(3, 3), stride=(1, 1), padding=(1, 1), groups=960, bias=False)\n",
       "          (1): BatchNorm2d(960, eps=1e-05, momentum=0.1, affine=True, track_running_stats=True)\n",
       "          (2): ReLU6(inplace=True)\n",
       "        )\n",
       "        (2): Conv2d(960, 160, kernel_size=(1, 1), stride=(1, 1), bias=False)\n",
       "        (3): BatchNorm2d(160, eps=1e-05, momentum=0.1, affine=True, track_running_stats=True)\n",
       "      )\n",
       "    )\n",
       "    (16): InvertedResidual(\n",
       "      (conv): Sequential(\n",
       "        (0): Conv2dNormActivation(\n",
       "          (0): Conv2d(160, 960, kernel_size=(1, 1), stride=(1, 1), bias=False)\n",
       "          (1): BatchNorm2d(960, eps=1e-05, momentum=0.1, affine=True, track_running_stats=True)\n",
       "          (2): ReLU6(inplace=True)\n",
       "        )\n",
       "        (1): Conv2dNormActivation(\n",
       "          (0): Conv2d(960, 960, kernel_size=(3, 3), stride=(1, 1), padding=(1, 1), groups=960, bias=False)\n",
       "          (1): BatchNorm2d(960, eps=1e-05, momentum=0.1, affine=True, track_running_stats=True)\n",
       "          (2): ReLU6(inplace=True)\n",
       "        )\n",
       "        (2): Conv2d(960, 160, kernel_size=(1, 1), stride=(1, 1), bias=False)\n",
       "        (3): BatchNorm2d(160, eps=1e-05, momentum=0.1, affine=True, track_running_stats=True)\n",
       "      )\n",
       "    )\n",
       "    (17): InvertedResidual(\n",
       "      (conv): Sequential(\n",
       "        (0): Conv2dNormActivation(\n",
       "          (0): Conv2d(160, 960, kernel_size=(1, 1), stride=(1, 1), bias=False)\n",
       "          (1): BatchNorm2d(960, eps=1e-05, momentum=0.1, affine=True, track_running_stats=True)\n",
       "          (2): ReLU6(inplace=True)\n",
       "        )\n",
       "        (1): Conv2dNormActivation(\n",
       "          (0): Conv2d(960, 960, kernel_size=(3, 3), stride=(1, 1), padding=(1, 1), groups=960, bias=False)\n",
       "          (1): BatchNorm2d(960, eps=1e-05, momentum=0.1, affine=True, track_running_stats=True)\n",
       "          (2): ReLU6(inplace=True)\n",
       "        )\n",
       "        (2): Conv2d(960, 320, kernel_size=(1, 1), stride=(1, 1), bias=False)\n",
       "        (3): BatchNorm2d(320, eps=1e-05, momentum=0.1, affine=True, track_running_stats=True)\n",
       "      )\n",
       "    )\n",
       "    (18): Conv2dNormActivation(\n",
       "      (0): Conv2d(320, 1280, kernel_size=(1, 1), stride=(1, 1), bias=False)\n",
       "      (1): BatchNorm2d(1280, eps=1e-05, momentum=0.1, affine=True, track_running_stats=True)\n",
       "      (2): ReLU6(inplace=True)\n",
       "    )\n",
       "  )\n",
       "  (classifier): Sequential(\n",
       "    (0): Dropout(p=0.2, inplace=False)\n",
       "    (1): Linear(in_features=1280, out_features=1000, bias=True)\n",
       "  )\n",
       ")"
      ]
     },
<<<<<<< HEAD
     "execution_count": 8,
=======
     "execution_count": 15,
>>>>>>> a337e570e385cfeb1055b6e2ee2636c22bf618c6
     "metadata": {},
     "output_type": "execute_result"
    }
   ],
   "source": [
    "# model_state_dict = torch.load('best_model_final_dataset/model04.pt')\n",
    "\n",
    "model_state_dict = torch.load('best_model/model03.pt' , map_location=torch.device('cpu'))    ##for cpu only\n",
    "\n",
    "model_ft = torch.hub.load('pytorch/vision:v0.10.0', 'mobilenet_v2', pretrained=True)\n",
    "\n",
    "# num_ftrs = model_ft.fc.in_features\n",
    "\n",
    "# model_ft.fc = nn.Linear(num_ftrs, 3)\n",
    "\n",
    "model_ft.load_state_dict(model_state_dict)\n",
    "model_ft.eval()"
   ]
  },
  {
   "cell_type": "code",
<<<<<<< HEAD
   "execution_count": 9,
=======
   "execution_count": 16,
>>>>>>> a337e570e385cfeb1055b6e2ee2636c22bf618c6
   "id": "dba9c3cc",
   "metadata": {},
   "outputs": [],
   "source": [
    "def Prediction(image_path):\n",
    "    image = Image.open(image_path)\n",
    "    image_tensor = toTensor(image)\n",
    "    image_tensor = image_tensor.float()\n",
    "    \n",
    "    image_tensor = image_tensor.unsqueeze_(0)\n",
    "    image_tensor.to(device)\n",
    "       \n",
    "    input = Variable(image_tensor).to(device)\n",
    "\n",
    "    output = model_ft(input)\n",
    "    output = output.cpu()\n",
    "    index = output.data.numpy().argmax()\n",
    "    \n",
    "    pred = class_names[index]\n",
    "    \n",
    "    return pred\n",
    "toTensor = transforms.ToTensor()"
   ]
  },
  {
   "cell_type": "code",
<<<<<<< HEAD
   "execution_count": 24,
=======
   "execution_count": 18,
>>>>>>> a337e570e385cfeb1055b6e2ee2636c22bf618c6
   "id": "72cdc4d4",
   "metadata": {},
   "outputs": [
    {
     "data": {
      "text/plain": [
       "'Signature_card'"
      ]
     },
<<<<<<< HEAD
     "execution_count": 24,
=======
     "execution_count": 18,
>>>>>>> a337e570e385cfeb1055b6e2ee2636c22bf618c6
     "metadata": {},
     "output_type": "execute_result"
    }
   ],
   "source": [
    "Prediction(\"demo_img/1002292.png\")"
   ]
  },
  {
   "cell_type": "code",
<<<<<<< HEAD
   "execution_count": 14,
=======
   "execution_count": 24,
>>>>>>> a337e570e385cfeb1055b6e2ee2636c22bf618c6
   "id": "89b73190",
   "metadata": {},
   "outputs": [],
   "source": [
    "val_transforms = transforms.Compose([\n",
    "    transforms.Resize((256, 256)),\n",
    "    transforms.ToTensor(),\n",
    "    transforms.Normalize(mean=[0.485, 0.456, 0.406], std=[0.229, 0.224, 0.225])\n",
    "])\n",
    "\n",
    "val_dataset = datasets.ImageFolder('dataset/test', transform=val_transforms)\n",
    "\n",
    "valloader = DataLoader(val_dataset, batch_size=1, shuffle=False, num_workers=4)"
   ]
  },
  {
   "cell_type": "code",
<<<<<<< HEAD
   "execution_count": 15,
=======
   "execution_count": 25,
>>>>>>> a337e570e385cfeb1055b6e2ee2636c22bf618c6
   "id": "61a2beb3",
   "metadata": {},
   "outputs": [],
   "source": [
    "true_labels = []\n",
    "pred_labels = []\n",
    "\n",
    "with torch.no_grad():\n",
    "    for images, labels in valloader:\n",
    "        images = images.to(device)\n",
    "        labels = labels.to(device)\n",
    "        outputs = model_ft(images)\n",
    "        _, preds = torch.max(outputs, 1)\n",
    "        true_labels.extend(labels.cpu().numpy())\n",
    "        pred_labels.extend(preds.cpu().numpy())\n",
    "\n",
    "cm = confusion_matrix(true_labels, pred_labels)"
   ]
  },
  {
   "cell_type": "code",
<<<<<<< HEAD
   "execution_count": 16,
=======
   "execution_count": 26,
>>>>>>> a337e570e385cfeb1055b6e2ee2636c22bf618c6
   "id": "2ceb7b72",
   "metadata": {},
   "outputs": [
    {
     "name": "stdout",
     "output_type": "stream",
     "text": [
<<<<<<< HEAD
      "Precision: 1.0\n",
      "Recall: 0.995\n",
      "F1 Score: 0.9974937343358395\n",
      "199\n",
      "0\n",
      "1\n",
      "200\n"
=======
      "Precision: 0.9915014164305949\n",
      "Recall: 1.0\n",
      "F1 Score: 0.995732574679943\n",
      "350\n",
      "3\n",
      "0\n",
      "347\n"
>>>>>>> a337e570e385cfeb1055b6e2ee2636c22bf618c6
     ]
    }
   ],
   "source": [
    "tp = cm[0, 0]\n",
    "fp = cm[1, 0]\n",
    "fn = cm[0, 1]\n",
    "tn = cm[1, 1]\n",
    "\n",
    "# Calculate precision, recall, and F1 score\n",
    "precision = tp / (tp + fp)\n",
    "recall = tp / (tp + fn)\n",
    "f1_score = 2 * (precision * recall) / (precision + recall)\n",
    "\n",
    "print(\"Precision:\", precision.item())\n",
    "print(\"Recall:\", recall.item())\n",
    "print(\"F1 Score:\", f1_score.item())\n",
    "\n",
    "print(tp)\n",
    "print(fp)\n",
    "print(fn)\n",
    "print(tn)"
   ]
  },
  {
   "cell_type": "code",
<<<<<<< HEAD
   "execution_count": 17,
=======
   "execution_count": 27,
>>>>>>> a337e570e385cfeb1055b6e2ee2636c22bf618c6
   "id": "d777f43b",
   "metadata": {},
   "outputs": [],
   "source": [
    "def plot_confusion_matrix(cm, classes, normalize=False, title='Confusion Matrix', cmap=plt.cm.Blues):\n",
    "    if normalize:\n",
    "        cm = cm.astype('float') / cm.sum(axis=1)[:, np.newaxis]\n",
    "\n",
    "    plt.imshow(cm, interpolation='nearest', cmap=cmap)\n",
    "    plt.title(title)\n",
    "    plt.colorbar()\n",
    "\n",
    "    tick_marks = np.arange(len(classes))\n",
    "    plt.xticks(tick_marks, classes)\n",
    "    plt.yticks(tick_marks, classes)\n",
    "\n",
    "    fmt = '.2f' if normalize else 'd'\n",
    "    thresh = cm.max() / 2.\n",
    "    for i, j in np.ndindex(cm.shape):\n",
    "        plt.text(j, i, format(cm[i, j], fmt),\n",
    "                 horizontalalignment=\"center\",\n",
    "                 color=\"white\" if cm[i, j] > thresh else \"black\")\n",
    "\n",
    "    plt.ylabel('True Label')\n",
    "    plt.xlabel('Predicted Label')\n",
    "    plt.tight_layout()"
   ]
  },
  {
   "cell_type": "code",
<<<<<<< HEAD
   "execution_count": 18,
=======
   "execution_count": 28,
>>>>>>> a337e570e385cfeb1055b6e2ee2636c22bf618c6
   "id": "b6353841",
   "metadata": {},
   "outputs": [
    {
     "data": {
<<<<<<< HEAD
      "image/png": "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",
=======
      "image/png": "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",
>>>>>>> a337e570e385cfeb1055b6e2ee2636c22bf618c6
      "text/plain": [
       "<Figure size 800x600 with 2 Axes>"
      ]
     },
     "metadata": {},
     "output_type": "display_data"
    }
   ],
   "source": [
    "# Example confusion matrix values\n",
    "confusion_matrix = np.array([[50, 10], [15, 75]])\n",
    "classes = class_names\n",
    "\n",
    "# Plot the confusion matrix\n",
    "plt.figure(figsize=(8, 6))\n",
    "plot_confusion_matrix(cm, classes, normalize=False)\n",
    "plt.show()"
   ]
  },
  {
   "attachments": {},
   "cell_type": "markdown",
   "id": "43bf6f58",
   "metadata": {},
   "source": [
    "accuracy test\n"
   ]
  },
  {
   "cell_type": "code",
<<<<<<< HEAD
   "execution_count": 19,
=======
   "execution_count": 29,
>>>>>>> a337e570e385cfeb1055b6e2ee2636c22bf618c6
   "id": "8000e1e1",
   "metadata": {},
   "outputs": [],
   "source": [
    "real_label = []\n",
    "pred_label = []\n",
    "\n",
    "def evaluate(model, data_loader):\n",
    "    model.eval()\n",
    "    correct = 0\n",
    "    total = 0\n",
    "    with torch.no_grad():\n",
    "        for inputs, labels in data_loader:\n",
    "#             inputs = FaceCrop(inputs)\n",
    "#             image_tensor = toTensor(inputs)\n",
    "            outputs = model_ft(inputs)\n",
    "            _, predicted = torch.max(outputs.data, 1)\n",
    "            total += labels.size(0)\n",
    "            correct += (predicted == labels).sum().item()\n",
    "            real_label.append(labels)\n",
    "            pred_label.append(predicted)\n",
    "    return correct / total"
   ]
  },
  {
   "cell_type": "code",
<<<<<<< HEAD
   "execution_count": 20,
=======
   "execution_count": 30,
>>>>>>> a337e570e385cfeb1055b6e2ee2636c22bf618c6
   "id": "a0396d3a",
   "metadata": {},
   "outputs": [],
   "source": [
    "transformer = transforms.Compose([\n",
    "    transforms.ToTensor(),\n",
    "    transforms.Resize([255,255])\n",
    "])\n",
    "\n",
    "tests_path = r'dataset/test'\n",
    "\n",
    "test_dataloader = DataLoader(\n",
    "    torchvision.datasets.ImageFolder(tests_path, transform = transformer),\n",
    "    batch_size = 100\n",
    ")"
   ]
  },
  {
   "cell_type": "code",
<<<<<<< HEAD
   "execution_count": 21,
=======
   "execution_count": 32,
>>>>>>> a337e570e385cfeb1055b6e2ee2636c22bf618c6
   "id": "7e51dc48",
   "metadata": {},
   "outputs": [
    {
     "data": {
      "text/plain": [
<<<<<<< HEAD
       "0.87"
      ]
     },
     "execution_count": 21,
=======
       "0.6714285714285714"
      ]
     },
     "execution_count": 32,
>>>>>>> a337e570e385cfeb1055b6e2ee2636c22bf618c6
     "metadata": {},
     "output_type": "execute_result"
    }
   ],
   "source": [
    "accuracy = evaluate(model_ft, test_dataloader)\n",
    "accuracy\n"
   ]
  }
 ],
 "metadata": {
  "kernelspec": {
   "display_name": "Python 3 (ipykernel)",
   "language": "python",
   "name": "python3"
  },
  "language_info": {
   "codemirror_mode": {
    "name": "ipython",
    "version": 3
   },
   "file_extension": ".py",
   "mimetype": "text/x-python",
   "name": "python",
   "nbconvert_exporter": "python",
   "pygments_lexer": "ipython3",
   "version": "3.9.13"
  }
 },
 "nbformat": 4,
 "nbformat_minor": 5
}
